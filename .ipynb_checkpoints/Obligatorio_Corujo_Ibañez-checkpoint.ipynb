{
 "cells": [
  {
   "cell_type": "markdown",
   "id": "c328429a",
   "metadata": {},
   "source": [
    "# Obligatorio 1 - Algoritmos\n",
    "\n",
    "Nombre del estudiante: Matias Iba;ez\n",
    "\n",
    "Debajo de cada pregunta o tarea incluya las celdas necesarias para desarrollar la respuesta. Puede usar una o varias celdas de código o mark down (https://www.datacamp.com/community/tutorials/markdown-in-jupyter-notebook)\n",
    "\n",
    "Para entregar, renombrar este notebook como \"Obligatorio 1 - Apellido Nombre\" \n"
   ]
  },
  {
   "cell_type": "markdown",
   "id": "517de5d8",
   "metadata": {},
   "source": [
    "## Problema 1\n",
    "### Ejercicio 1\n",
    "#### Parte a)\n",
    "Implementar en python el binary search: busca un elemento en un arreglo/lista ordenado empezando por la mitad y descartando mitades). Implementar estos algoritmos en forma NO recursiva."
   ]
  },
  {
   "cell_type": "code",
   "execution_count": 31,
   "id": "d36f60c0",
   "metadata": {},
   "outputs": [],
   "source": [
    "def binary_search(elements: list[float], target: float) -> int:\n",
    "    izq = 0\n",
    "    der = len(elements) - 1\n",
    "    while izq <= der:\n",
    "        mitad = (izq + der) // 2\n",
    "        # Si el elemento medio es el objetivo, devolver su índice\n",
    "        if elements[mitad] == target:\n",
    "            return mitad\n",
    "        # Si el objetivo está en la mitad izquierda, ajustar el límite derecho\n",
    "        elif elements[mitad] > target:\n",
    "            der = mitad - 1\n",
    "        # Si el objetivo está en la mitad derecha, ajustar el límite izquierdo\n",
    "        else:\n",
    "            izq = mitad + 1\n",
    "    # Si el objetivo no está presente en la lista, devolver -1\n",
    "    return -1\n"
   ]
  },
  {
   "cell_type": "markdown",
   "id": "d398aef2",
   "metadata": {},
   "source": [
    "#### Parte b)\n",
    "Implementar en python find_min (busca el mínimo elemento de un sub-arreglo/lista y retorna su índice)."
   ]
  },
  {
   "cell_type": "code",
   "execution_count": 28,
   "id": "c8939995",
   "metadata": {},
   "outputs": [],
   "source": [
    "def find_min(elements: list[float], from_index: int, to_index: int) -> int:\n",
    "    minimo=None\n",
    "    indice_buscado=-1\n",
    "    for posicion in range(from_index,to_index):\n",
    "        if( minimo == None or elements[posicion] < minimo ): \n",
    "            minimo = elements[posicion]\n",
    "            indice_buscado = posicion\n",
    "    return indice_buscado\n",
    "    "
   ]
  },
  {
   "cell_type": "markdown",
   "id": "376e62f7",
   "metadata": {},
   "source": [
    "#### Parte c)\n",
    "Implementar en python selection sort (ordena el arreglo empezando por buscar el mínimo e intercambiándolo por el del primer lugar, luego busca el mínimo del resto de la lista y lo intercambia\n",
    "por el del segundo lugar, etc)."
   ]
  },
  {
   "cell_type": "code",
   "execution_count": 26,
   "id": "c148142b",
   "metadata": {},
   "outputs": [],
   "source": [
    "def selection_sort(elements: list[float]) -> list[float]:\n",
    "    for i in range(len(elements)):\n",
    "        posicion_minimo = find_min(elements,i,len(elements))\n",
    "        aux=elements[i]\n",
    "        elements[i]=elements[posicion_minimo]\n",
    "        elements[posicion_minimo]=aux\n",
    "    return elements\n"
   ]
  },
  {
   "cell_type": "markdown",
   "id": "57c9d1df",
   "metadata": {},
   "source": [
    "### Ejercicio 2\n",
    "Crear Unit Tests para binary_search, fin_min, selection_stort\n",
    "Implementar en python utilizando http://docs.python.org/2/library/unittest.html unit test para los tres algoritmos implementados."
   ]
  },
  {
   "cell_type": "code",
   "execution_count": 32,
   "id": "fff526e6-16c9-4bdf-9e4a-06ededa13c53",
   "metadata": {},
   "outputs": [
    {
     "name": "stderr",
     "output_type": "stream",
     "text": [
      "...\n",
      "----------------------------------------------------------------------\n",
      "Ran 3 tests in 0.006s\n",
      "\n",
      "OK\n"
     ]
    },
    {
     "data": {
      "text/plain": [
       "<unittest.main.TestProgram at 0x1132a5ae0>"
      ]
     },
     "execution_count": 32,
     "metadata": {},
     "output_type": "execute_result"
    }
   ],
   "source": [
    "import unittest\n",
    "\n",
    "class TestBinarySearch(unittest.TestCase):\n",
    "    def test_binary_search(self):\n",
    "        # Caso de prueba con una lista desordenada\n",
    "        lista_desordenada = [1, 3, 5, 7, 9, 11, 13, 15, 17, 19]\n",
    "        self.assertEqual(binary_search(lista_desordenada, 11), 5)\n",
    "\n",
    "        # Caso de prueba con una lista vacía\n",
    "        lista_vacia = []\n",
    "        self.assertEqual(binary_search(lista_vacia, 5), -1)\n",
    "\n",
    "        # Caso de prueba con una lista que no contiene el elemento buscado\n",
    "        lista_no_contiene = [1, 3, 5, 7, 9, 11, 13, 15, 17, 19]\n",
    "        self.assertEqual(binary_search(lista_no_contiene, 6), -1)\n",
    "\n",
    "        # Caso de prueba con una lista que contiene un solo elemento\n",
    "        lista_un_elemento = [42]\n",
    "        self.assertEqual(binary_search(lista_un_elemento, 42), 0)\n",
    "\n",
    "        # Caso de prueba con una lista que contiene el mismo elemento repetido\n",
    "        lista_repetidos = [7, 7, 7, 7, 7]\n",
    "        self.assertEqual(binary_search(lista_repetidos, 7), 2)\n",
    "\n",
    "        # Caso de prueba con una lista que contiene elementos negativos\n",
    "        lista_negativos = [-5, -3, -1, 0, 2, 4, 6, 8]\n",
    "        self.assertEqual(binary_search(lista_negativos, -1), 2)\n",
    "\n",
    "        # Caso de prueba con una lista que contiene números flotantes\n",
    "        lista_floats = [1.1, 2.2, 3.3, 4.4, 5.5]\n",
    "        self.assertEqual(binary_search(lista_floats, 4.4), 3)\n",
    "\n",
    "# Crear una instancia de la clase de prueba y ejecutar las pruebas\n",
    "unittest.main(argv=[''], exit=False)\n"
   ]
  },
  {
   "cell_type": "code",
   "execution_count": 29,
   "id": "c6f635ab-b37e-40df-966f-8224662fdd4f",
   "metadata": {},
   "outputs": [
    {
     "name": "stderr",
     "output_type": "stream",
     "text": [
      "..\n",
      "----------------------------------------------------------------------\n",
      "Ran 2 tests in 0.004s\n",
      "\n",
      "OK\n"
     ]
    },
    {
     "data": {
      "text/plain": [
       "<unittest.main.TestProgram at 0x1131d6620>"
      ]
     },
     "execution_count": 29,
     "metadata": {},
     "output_type": "execute_result"
    }
   ],
   "source": [
    "import unittest\n",
    "class TestFindMin(unittest.TestCase):\n",
    "    def test_find_min(self):\n",
    "        # Caso de prueba con una lista desordenada\n",
    "        lista_desordenada = [54, 23, 78, 12, 45, 87, 32, 65, 19, 90]\n",
    "        indice_esperado_desordenado = 3\n",
    "        self.assertEqual(find_min(lista_desordenada, 0, len(lista_desordenada)), indice_esperado_desordenado)\n",
    "\n",
    "        # Caso de prueba con una lista vacía\n",
    "        lista_vacia = []\n",
    "        int_esperado = -1\n",
    "        self.assertEqual(find_min(lista_vacia, 0, len(lista_vacia)), int_esperado)\n",
    "\n",
    "        # Caso de prueba con una lista ya ordenada\n",
    "        lista_ordenada = [1, 2, 3, 4, 5]\n",
    "        indice_esperado_ordenado = 0\n",
    "        self.assertEqual(find_min(lista_ordenada, 0, len(lista_ordenada)), indice_esperado_ordenado)\n",
    "\n",
    "        # Caso de prueba con una lista inversamente ordenada\n",
    "        lista_inversa = [5, 4, 3, 2, 1]\n",
    "        indice_esperado_inverso = 4\n",
    "        self.assertEqual(find_min(lista_inversa, 0, len(lista_inversa)), indice_esperado_inverso)\n",
    "\n",
    "        # Caso de prueba con una lista que contiene elementos repetidos\n",
    "        lista_repetidos = [7, 7, 7, 7, 7]\n",
    "        indice_esperado_repetidos = 0\n",
    "        self.assertEqual(find_min(lista_repetidos, 0, len(lista_repetidos)), indice_esperado_repetidos)\n",
    "\n",
    "        # Caso de prueba con una lista que contiene elementos negativos\n",
    "        lista_negativos = [-5, -3, -7, -2, -8]\n",
    "        indice_esperado_negativos = 4\n",
    "        self.assertEqual(find_min(lista_negativos, 0, len(lista_negativos)), indice_esperado_negativos)\n",
    "\n",
    "# Crear una instancia de la clase de prueba y ejecutar las pruebas\n",
    "unittest.main(argv=[''], exit=False)\n"
   ]
  },
  {
   "cell_type": "code",
   "execution_count": 30,
   "id": "b4629fa8",
   "metadata": {},
   "outputs": [
    {
     "name": "stderr",
     "output_type": "stream",
     "text": [
      "..\n",
      "----------------------------------------------------------------------\n",
      "Ran 2 tests in 0.003s\n",
      "\n",
      "OK\n"
     ]
    },
    {
     "data": {
      "text/plain": [
       "<unittest.main.TestProgram at 0x1131ef700>"
      ]
     },
     "execution_count": 30,
     "metadata": {},
     "output_type": "execute_result"
    }
   ],
   "source": [
    "import unittest\n",
    "\n",
    "def selection_sort(elements):\n",
    "    for i in range(len(elements)):\n",
    "        posicion_minimo = find_min(elements, i, len(elements))\n",
    "        aux = elements[i]\n",
    "        elements[i] = elements[posicion_minimo]\n",
    "        elements[posicion_minimo] = aux\n",
    "    return elements\n",
    "\n",
    "class TestSelectionSort(unittest.TestCase):\n",
    "    def test_selection_sort(self):\n",
    "        # Caso de prueba con una lista desordenada\n",
    "        lista_desordenada = [54, 23, 78, 12, 45, 87, 32, 65, 19, 90]\n",
    "        resultado_esperado = [12, 19, 23, 32, 45, 54, 65, 78, 87, 90]\n",
    "        self.assertEqual(selection_sort(lista_desordenada), resultado_esperado)\n",
    "\n",
    "        # Caso de prueba con una lista vacía\n",
    "        lista_vacia = []\n",
    "        resultado_esperado_vacio = []\n",
    "        self.assertEqual(selection_sort(lista_vacia), resultado_esperado_vacio)\n",
    "\n",
    "        # Caso de prueba con una lista ya ordenada\n",
    "        lista_ordenada = [1, 2, 3, 4, 5]\n",
    "        resultado_esperado_ordenado = [1, 2, 3, 4, 5]\n",
    "        self.assertEqual(selection_sort(lista_ordenada), resultado_esperado_ordenado)\n",
    "\n",
    "        # Caso de prueba con una lista inversamente ordenada\n",
    "        lista_inversa = [5, 4, 3, 2, 1]\n",
    "        resultado_esperado_inverso = [1, 2, 3, 4, 5]\n",
    "        self.assertEqual(selection_sort(lista_inversa), resultado_esperado_inverso)\n",
    "\n",
    "        # Casos de prueba adicionales\n",
    "        lista_un_elemento = [42]\n",
    "        resultado_esperado = [42]\n",
    "        self.assertEqual(selection_sort(lista_un_elemento), resultado_esperado)\n",
    "\n",
    "        lista_repetidos = [7, 7, 7, 7, 7]\n",
    "        resultado_esperado_repetidos = [7, 7, 7, 7, 7]\n",
    "        self.assertEqual(selection_sort(lista_repetidos), resultado_esperado_repetidos)\n",
    "\n",
    "        lista_negativos = [-5, -3, -7, -2, -8]\n",
    "        resultado_esperado_negativos = [-8, -7, -5, -3, -2]\n",
    "        self.assertEqual(selection_sort(lista_negativos), resultado_esperado_negativos)\n",
    "\n",
    "# Crear una instancia de la clase de prueba y ejecutar las pruebas\n",
    "unittest.main(argv=[''], exit=False)\n"
   ]
  },
  {
   "cell_type": "markdown",
   "id": "3443fc56",
   "metadata": {},
   "source": [
    "### Ejercicio 3\n",
    "Usando matplotlib (https://jakevdp.github.io/PythonDataScienceHandbook/04.02-simple-scatter-plots.html) crear una gráfica con los tiempos de ejecución. \n",
    "Es decir computar la duración del algoritmo para distintos n (el tamaño del arreglo/lista). \n",
    "Tomar el máximo n suficientemente grande de tal forma que correr tome algunos minutos. Si fuera necesario, puede agregar sleep() junto a las instrucciones para enlentencer el procesamiento (https://www.programiz.com/python-programming/time/sleep)  \n",
    "\n"
   ]
  },
  {
   "cell_type": "markdown",
   "id": "3daed7bd",
   "metadata": {},
   "source": [
    "## Problema 2\n",
    "Utilizar Latex y Markdowns para la notación matemática.\n",
    "1. Dar una prueba para selection sort implementado en el Problema 1. \n",
    "2. Encontrar la función de tiempo (peor caso) para el selection sort dando también el órden de crecimiento (big-O)\n",
    "3. Dar una prueba para binary search implementado en el Problema 1. \n",
    "4. Encontrar la función de tiempo (peor caso) para el binary search  dando también el órden de crecimiento (big-O)"
   ]
  },
  {
   "cell_type": "code",
   "execution_count": null,
   "id": "744f3a6b",
   "metadata": {},
   "outputs": [],
   "source": []
  },
  {
   "cell_type": "markdown",
   "id": "208b1c3d",
   "metadata": {},
   "source": [
    "## Problema 3\n",
    "Resolver el problema 2-4 de CLRS"
   ]
  },
  {
   "cell_type": "code",
   "execution_count": null,
   "id": "76959be2-f0de-4c6e-a532-2434e15a19ef",
   "metadata": {},
   "outputs": [],
   "source": []
  }
 ],
 "metadata": {
  "kernelspec": {
   "display_name": "Python 3 (ipykernel)",
   "language": "python",
   "name": "python3"
  },
  "language_info": {
   "codemirror_mode": {
    "name": "ipython",
    "version": 3
   },
   "file_extension": ".py",
   "mimetype": "text/x-python",
   "name": "python",
   "nbconvert_exporter": "python",
   "pygments_lexer": "ipython3",
   "version": "3.10.4"
  }
 },
 "nbformat": 4,
 "nbformat_minor": 5
}
