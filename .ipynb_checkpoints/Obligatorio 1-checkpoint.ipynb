{
 "cells": [
  {
   "cell_type": "markdown",
   "id": "c328429a",
   "metadata": {},
   "source": [
    "# Obligatorio 1 - Algoritmos\n",
    "\n",
    "Nombre del estudiante: [completar aquí]\n",
    "\n",
    "Debajo de cada pregunta o tarea incluya las celdas necesarias para desarrollar la respuesta. Puede usar una o varias celdas de código o mark down (https://www.datacamp.com/community/tutorials/markdown-in-jupyter-notebook)\n",
    "\n",
    "Para entregar, renombrar este notebook como \"Obligatorio 1 - Apellido Nombre\" \n"
   ]
  },
  {
   "cell_type": "markdown",
   "id": "517de5d8",
   "metadata": {},
   "source": [
    "## Problema 1\n",
    "### Ejercicio 1\n",
    "#### Parte a)\n",
    "Implementar en python el binary search: busca un elemento en un arreglo/lista ordenado empezando por la mitad y descartando mitades). Implementar estos algoritmos en forma NO recursiva."
   ]
  },
  {
   "cell_type": "code",
   "execution_count": 3,
   "id": "d36f60c0",
   "metadata": {},
   "outputs": [],
   "source": [
    "def binary_search(elements: list[float], target: float) -> int:\n",
    "    pass"
   ]
  },
  {
   "cell_type": "markdown",
   "id": "d398aef2",
   "metadata": {},
   "source": [
    "#### Parte b)\n",
    "Implementar en python find_min (busca el mínimo elemento de un sub-arreglo/lista y retorna su índice)."
   ]
  },
  {
   "cell_type": "code",
   "execution_count": 4,
   "id": "c8939995",
   "metadata": {},
   "outputs": [],
   "source": [
    "def find_min(elements: list[float], from_index: int, to_index: int) -> int:\n",
    "    pass"
   ]
  },
  {
   "cell_type": "markdown",
   "id": "376e62f7",
   "metadata": {},
   "source": [
    "#### Parte c)\n",
    "Implementar en python selection sort (ordena el arreglo empezando por buscar el mínimo e intercambiándolo por el del primer lugar, luego busca el mínimo del resto de la lista y lo intercambia\n",
    "por el del segundo lugar, etc)."
   ]
  },
  {
   "cell_type": "code",
   "execution_count": 5,
   "id": "c148142b",
   "metadata": {},
   "outputs": [],
   "source": [
    "def selection_sort(elements: list[float]) -> list[float]:\n",
    "    pass"
   ]
  },
  {
   "cell_type": "markdown",
   "id": "57c9d1df",
   "metadata": {},
   "source": [
    "### Ejercicio 2\n",
    "Crear Unit Tests para binary_search, fin_min, selection_stort\n",
    "Implementar en python utilizando http://docs.python.org/2/library/unittest.html unit test para los tres algoritmos implementados."
   ]
  },
  {
   "cell_type": "code",
   "execution_count": 6,
   "id": "b4629fa8",
   "metadata": {},
   "outputs": [],
   "source": [
    "# Unit Tests"
   ]
  },
  {
   "cell_type": "markdown",
   "id": "3443fc56",
   "metadata": {},
   "source": [
    "### Ejercicio 3\n",
    "Usando matplotlib (https://jakevdp.github.io/PythonDataScienceHandbook/04.02-simple-scatter-plots.html) crear una gráfica con los tiempos de ejecución. \n",
    "Es decir computar la duración del algoritmo para distintos n (el tamaño del arreglo/lista). \n",
    "Tomar el máximo n suficientemente grande de tal forma que correr tome algunos minutos. Si fuera necesario, puede agregar sleep() junto a las instrucciones para enlentencer el procesamiento (https://www.programiz.com/python-programming/time/sleep)  \n",
    "\n"
   ]
  },
  {
   "cell_type": "markdown",
   "id": "3daed7bd",
   "metadata": {},
   "source": [
    "## Problema 2\n",
    "Utilizar Latex y Markdowns para la notación matemática.\n",
    "1. Dar una prueba para selection sort implementado en el Problema 1. \n",
    "2. Encontrar la función de tiempo (peor caso) para el selection sort dando también el órden de crecimiento (big-O)\n",
    "3. Dar una prueba para binary search implementado en el Problema 1. \n",
    "4. Encontrar la función de tiempo (peor caso) para el binary search  dando también el órden de crecimiento (big-O)"
   ]
  },
  {
   "cell_type": "code",
   "execution_count": null,
   "id": "744f3a6b",
   "metadata": {},
   "outputs": [],
   "source": []
  },
  {
   "cell_type": "markdown",
   "id": "208b1c3d",
   "metadata": {},
   "source": [
    "## Problema 3\n",
    "Resolver el problema 2-4 de CLRS"
   ]
  },
  {
   "cell_type": "code",
   "execution_count": null,
   "id": "76959be2-f0de-4c6e-a532-2434e15a19ef",
   "metadata": {},
   "outputs": [],
   "source": []
  }
 ],
 "metadata": {
  "kernelspec": {
   "display_name": "Python 3 (ipykernel)",
   "language": "python",
   "name": "python3"
  }
 },
 "nbformat": 4,
 "nbformat_minor": 5
}
