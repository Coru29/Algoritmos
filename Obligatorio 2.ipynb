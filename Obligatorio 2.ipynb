{
 "cells": [
  {
   "cell_type": "markdown",
   "id": "c328429a",
   "metadata": {},
   "source": [
    "# Obligatorio 2 - Algoritmos\n",
    "\n",
    "\n",
    "\n",
    "Nombre del estudiante: [completar aquí]\n",
    "\n",
    "Debajo de cada pregunta o tarea incluya las celdas necesarias para desarrolar la respuesta. Puede usar una o varias celdas de código o mark down (https://www.datacamp.com/community/tutorials/markdown-in-jupyter-notebook)\n",
    "\n",
    "Para entregar, renombrar este notebook como \"Obligatorio 1 - Apellido Nombre\" \n"
   ]
  },
  {
   "cell_type": "markdown",
   "id": "517de5d8",
   "metadata": {},
   "source": [
    "## Ejercicio 1\n",
    "Ordenar estas funciones de acuerdo a su orden de crecimiento (justifique su respuesta):\n",
    "<ul>\n",
    "<li>$\\sqrt{n}\\ln{n}$</li>\n",
    "<li>$\\ln{\\ln{n^{2}}}$</li>\n",
    "<li>$2^{{\\ln{n}}^{2}}$</li>\n",
    "<li>$n^{0.001}$</li>\n",
    "<li>${n!}$</li>\n",
    "<li>$2^{2\\ln{n}}$</li>\n",
    "<li>${(\\ln{n})!}$</li>\n",
    "</ul>\n"
   ]
  },
  {
   "cell_type": "markdown",
   "id": "d398aef2",
   "metadata": {},
   "source": [
    "## Ejercicio 2\n",
    "Resolver ejercicio 3.1-1 CLRS"
   ]
  },
  {
   "cell_type": "markdown",
   "id": "376e62f7",
   "metadata": {},
   "source": [
    "## Ejercicio 3\n",
    "Resolver ejercicio 3.1-4 CLRS"
   ]
  },
  {
   "cell_type": "code",
   "execution_count": null,
   "id": "a4dd0ad2",
   "metadata": {},
   "outputs": [],
   "source": []
  }
 ],
 "metadata": {
  "kernelspec": {
   "display_name": "Python 3",
   "language": "python",
   "name": "python3"
  },
  "language_info": {
   "codemirror_mode": {
    "name": "ipython",
    "version": 3
   },
   "file_extension": ".py",
   "mimetype": "text/x-python",
   "name": "python",
   "nbconvert_exporter": "python",
   "pygments_lexer": "ipython3",
   "version": "3.8.8"
  }
 },
 "nbformat": 4,
 "nbformat_minor": 5
}
