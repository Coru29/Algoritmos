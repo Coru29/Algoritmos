{
 "cells": [
  {
   "cell_type": "code",
   "execution_count": 82,
   "id": "7524a64c-c34e-4f24-ac4b-7b90274c135b",
   "metadata": {},
   "outputs": [],
   "source": [
    "def insertion_sort(a):\n",
    "    for i in range(1,len(a)-1):\n",
    "        key = a[i]\n",
    "        j= a[i-1]\n",
    "        \n",
    "        print(\"estoy parado en \" + str(key)+ \" y tengo atras a \" + str(j))\n",
    "        \n",
    "        while j > 0 and a[j] > key:\n",
    "            temp = a[j]\n",
    "            a[j] = a[j-1]\n",
    "            a[j-1] = temp\n",
    "            \n",
    "\n",
    "    return a"
   ]
  },
  {
   "cell_type": "code",
   "execution_count": 83,
   "id": "db04edf8-d6cf-49af-909f-887a13328dcd",
   "metadata": {},
   "outputs": [
    {
     "name": "stdout",
     "output_type": "stream",
     "text": [
      "estoy parado en 2 y tengo atras a 5\n",
      "estoy parado en 4 y tengo atras a 2\n",
      "estoy parado en 6 y tengo atras a 4\n",
      "estoy parado en 3 y tengo atras a 6\n",
      "estoy parado en 7 y tengo atras a 3\n",
      "estoy parado en 1 y tengo atras a 7\n",
      "estoy parado en 1 y tengo atras a 8\n"
     ]
    },
    {
     "data": {
      "text/plain": [
       "[5, 2, 4, 6, 3, 7, 8, 9, 1]"
      ]
     },
     "execution_count": 83,
     "metadata": {},
     "output_type": "execute_result"
    }
   ],
   "source": [
    "insertion_sort([5,2,4,6,1,3,7,8,9])"
   ]
  },
  {
   "cell_type": "code",
   "execution_count": null,
   "id": "ce603f1b-a607-4d97-99eb-beac97d69cd8",
   "metadata": {},
   "outputs": [],
   "source": []
  }
 ],
 "metadata": {
  "kernelspec": {
   "display_name": "Python 3 (ipykernel)",
   "language": "python",
   "name": "python3"
  },
  "language_info": {
   "codemirror_mode": {
    "name": "ipython",
    "version": 3
   },
   "file_extension": ".py",
   "mimetype": "text/x-python",
   "name": "python",
   "nbconvert_exporter": "python",
   "pygments_lexer": "ipython3",
   "version": "3.10.4"
  }
 },
 "nbformat": 4,
 "nbformat_minor": 5
}
